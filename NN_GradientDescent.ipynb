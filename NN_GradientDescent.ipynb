{
  "cells": [
    {
      "cell_type": "code",
      "execution_count": null,
      "metadata": {
        "id": "W2Uv36n5ynbW"
      },
      "outputs": [],
      "source": [
        "import numpy as np\n",
        "from math import sin,pi\n",
        "import matplotlib.pyplot as plt\n",
        "import random"
      ]
    },
    {
      "cell_type": "code",
      "execution_count": null,
      "metadata": {
        "id": "fHyMxbgYmMBM"
      },
      "outputs": [],
      "source": [
        "def f(x1, x2):\n",
        "  y = np.sin(x1+x2)\n",
        "  return y"
      ]
    },
    {
      "cell_type": "markdown",
      "metadata": {
        "id": "sBIBSAaGbDoh"
      },
      "source": [
        "`part c.2`: *Generate Dataset*"
      ]
    },
    {
      "cell_type": "code",
      "execution_count": null,
      "metadata": {
        "id": "OTiGxHlMbalc"
      },
      "outputs": [],
      "source": [
        "x1_vals = [] #input 1\n",
        "x2_vals = [] #input 2\n",
        "y_vals = [] #target\n",
        "num_data = 10000\n",
        "\n",
        "for i in range(0, num_data):\n",
        "    randd1 = random.uniform(0, 2*pi)\n",
        "    randd2 = random.uniform(0, 2*pi)\n",
        "    x1_vals.append(randd1)\n",
        "    x2_vals.append(randd2)\n",
        "    y_vals.append(f(x1_vals[i],x2_vals[i]))\n",
        "\n",
        "x_vals = []\n",
        "for i in range(len(x1_vals)):\n",
        "  x_vals.append((x1_vals[i], x2_vals[i]))\n",
        "\n",
        "x_vals = np.array(x_vals)\n",
        "x_vals = np.reshape(x_vals, (num_data, 2, 1))\n",
        "y_vals = np.array(y_vals)\n",
        "y_vals = np.reshape(y_vals, (num_data, 1))"
      ]
    },
    {
      "cell_type": "code",
      "execution_count": null,
      "metadata": {
        "id": "95oT4PLJz9XQ"
      },
      "outputs": [],
      "source": [
        "#Splitting dataset into train, test, validation\n",
        "def trainTestSplit(x_values, y_values):\n",
        "    rowNum = x_values.shape[0]\n",
        "    trainIndex = int(80 / 100 * rowNum) #we use 80% of datas for training\n",
        "    validationIndex = int(90 / 100 * rowNum) #we use 10% of datas for validation\n",
        "\n",
        "    x_train = x_values[:trainIndex, :] \n",
        "    y_train = y_values[:trainIndex] \n",
        "\n",
        "    x_validation = x_values[trainIndex:validationIndex, :] \n",
        "    y_validation = y_values[trainIndex:validationIndex] \n",
        "\n",
        "    x_test = x_values[validationIndex:, :] \n",
        "    y_test = y_values[validationIndex:] \n",
        "\n",
        "    return x_train, y_train, x_validation, y_validation, x_test, y_test\n",
        "\n",
        "x_train, y_train, x_validation, y_validation, x_test, y_test = trainTestSplit(x_vals, y_vals)"
      ]
    },
    {
      "cell_type": "markdown",
      "metadata": {
        "id": "y4gq4rPHvX02"
      },
      "source": [
        "`part c.3`: *Normalize input data*"
      ]
    },
    {
      "cell_type": "code",
      "execution_count": null,
      "metadata": {
        "id": "QXXdmgnrvkt0"
      },
      "outputs": [],
      "source": [
        "def normalizeData(data, min_data, max_data):\n",
        "   return (data - min_data) / (max_data - min_data)"
      ]
    },
    {
      "cell_type": "code",
      "execution_count": null,
      "metadata": {
        "id": "u-QBwXTP3asq"
      },
      "outputs": [],
      "source": [
        "min_data = np.min(x_train)\n",
        "max_data = np.max(x_train)\n",
        "\n",
        "x_validation = normalizeData(x_validation, min_data, max_data)\n",
        "x_test = normalizeData(x_test, min_data, max_data)\n",
        "x_train = normalizeData(x_train, min_data, max_data)"
      ]
    },
    {
      "cell_type": "markdown",
      "metadata": {
        "id": "3pnxSza48v1n"
      },
      "source": [
        "`part c.4`: *Model Implementation* "
      ]
    },
    {
      "cell_type": "code",
      "execution_count": null,
      "metadata": {
        "id": "gZSLf4a49OIQ"
      },
      "outputs": [],
      "source": [
        "class NeuralNetwork:\n",
        "  def __init__(self, lr, numOfHLNeurons):\n",
        "\n",
        "    self.lr = lr\n",
        "    self.numOfHLNeurons = numOfHLNeurons\n",
        "\n",
        "    self.output = np.zeros(1) \n",
        "    self.w1 = np.random.rand(2, self.numOfHLNeurons)\n",
        "    self.w2 = np.random.rand(self.numOfHLNeurons,1)\n",
        "\n",
        "    self.b1 = np.zeros((self.numOfHLNeurons, 1))\n",
        "    self.b2 = np.zeros((1, 1))\n",
        "\n",
        "  def feedForward(self):\n",
        "    self.slayer = np.dot(self.w1.T, self.input) + self.b1\n",
        "    self.zlayer = self.relu(self.slayer)\n",
        "    self.output = np.dot(self.w2.T, self.zlayer) + self.b2\n",
        "  \n",
        "  def backProp(self, y):\n",
        "    #derivatives:\n",
        "    \n",
        "    #output layer\n",
        "    d_yhat = 2 * (self.output - y)\n",
        "    d_b2 = d_yhat\n",
        "    d_w2 = np.dot(self.zlayer, d_yhat)\n",
        "    #hidden layer\n",
        "    # d_b1 = np.multiply(np.dot(self.w2, d_yhat), self.d_relu(self.slayer))\n",
        "    d_b1 = np.dot(np.dot(np.dot(self.w2, self.d_relu(self.slayer).T), np.array([[1] for _ in range(self.numOfHLNeurons)])), d_yhat)\n",
        "\n",
        "    # d_w1 = np.dot(np.dot(self.w2, d_yhat), np.dot(self.d_relu(self.slayer), self.input))\n",
        "    d_w1 = np.repeat(self.input, self.numOfHLNeurons, axis=1).dot(np.multiply(d_yhat * self.d_relu(self.slayer), self.w2)) * d_yhat\n",
        "    \n",
        "\n",
        "    self.w1 -= self.lr * d_w1\n",
        "    self.w2 -= self.lr * d_w2\n",
        "\n",
        "    self.b1 -= self.lr * d_b1\n",
        "    self.b2 -= self.lr * d_b2\n",
        "\n",
        "  #calculate cost\n",
        "  def calCost(self, y, yhat):\n",
        "    cost = np.power(y - yhat, 2)\n",
        "    return cost\n",
        "\n",
        "  #relu\n",
        "  def relu(self, x):\n",
        "    return np.maximum(0, x)\n",
        "\n",
        "  #derivative of relu\n",
        "  def d_relu(self, x):\n",
        "    x[x<=0] = 0\n",
        "    x[x>0] = 1\n",
        "    return x\n",
        "\n",
        "  def train(self, x, y, x_valid, y_valid, epochs):\n",
        "    train_calc_cost = {}\n",
        "    validation_calc_cost = {}\n",
        "\n",
        "    for i in range(epochs):\n",
        "      epoch_train_loss = 0\n",
        "      epoch_validation_loss = 0\n",
        "\n",
        "      for j in range(len(x)):\n",
        "        self.input = x[j]\n",
        "        self.feedForward()\n",
        "        self.backProp(y[j])\n",
        "        epoch_train_loss += self.calCost(self.output, y[j])\n",
        "\n",
        "      for j in range(len(x_valid)):\n",
        "        self.input = x_valid[j]\n",
        "        self.feedForward()\n",
        "        epoch_validation_loss += self.calCost(self.output, y_valid[j])\n",
        "\n",
        "      \n",
        "      train_calc_cost[i] = float(epoch_train_loss / len(x))\n",
        "      validation_calc_cost[i] = float(epoch_validation_loss / len(x_valid))\n",
        "    \n",
        "      print('Epoch for %d/%d : Train data loss = %f - Validation data loss = %f' % (i, epochs, train_calc_cost[i], validation_calc_cost[i]))\n",
        "    return train_calc_cost, validation_calc_cost\n",
        "\n",
        "  def inference (self, x):\n",
        "    yhat = []\n",
        "    for i in range(x.shape[0]):\n",
        "      self.input = x[i]\n",
        "      self.feedForward()\n",
        "      yhat.append(self.output)\n",
        "    return yhat\n"
      ]
    },
    {
      "cell_type": "code",
      "execution_count": null,
      "metadata": {
        "id": "Fll1M1x_sYr3"
      },
      "outputs": [],
      "source": [
        "def plot_cost(train_cost, valid_loss, epochNum):\n",
        "\n",
        "    plt.plot(list(train_cost.keys()), list(train_cost.values()), 'r', label='Train Loss')\n",
        "    plt.plot(list(valid_loss.keys()), list(valid_loss.values()), 'b', label='Validation Loss')\n",
        "\n",
        "    plt.legend(loc=\"upper right\")\n",
        "    plt.title(\"Training loss\")\n",
        "\n",
        "    plt.xlabel(\"Epochs\")\n",
        "    plt.ylabel(\"Loss\")\n",
        "\n",
        "    plt.grid(True)\n",
        "\n",
        "    plt.xticks(list(range(0, epochNum, int(epochNum/10))))  # Setting up the x ticks\n",
        "\n",
        "    plt.show()\n",
        "\n",
        "def calcL2Loss(y1, y2):\n",
        "    return np.sum(np.power(y1 - y2, 2)) / y1.shape[0]"
      ]
    },
    {
      "cell_type": "code",
      "execution_count": null,
      "metadata": {
        "colab": {
          "base_uri": "https://localhost:8080/"
        },
        "id": "VmT_Gn8uZO-d",
        "outputId": "c14d4097-88c2-4175-ab1c-25ceb23aba38"
      },
      "outputs": [
        {
          "name": "stdout",
          "output_type": "stream",
          "text": [
            "Epoch for 0/100 : Train data loss = 0.269209 - Validation data loss = 0.171136\n",
            "Epoch for 1/100 : Train data loss = 0.264313 - Validation data loss = 0.244109\n",
            "Epoch for 2/100 : Train data loss = 0.348926 - Validation data loss = 0.187432\n",
            "Epoch for 3/100 : Train data loss = 0.222999 - Validation data loss = 0.103329\n",
            "Epoch for 4/100 : Train data loss = 0.128752 - Validation data loss = 0.068113\n",
            "Epoch for 5/100 : Train data loss = 0.074621 - Validation data loss = 0.047508\n",
            "Epoch for 6/100 : Train data loss = 0.044661 - Validation data loss = 0.037494\n",
            "Epoch for 7/100 : Train data loss = 0.034817 - Validation data loss = 0.034821\n",
            "Epoch for 8/100 : Train data loss = 0.032659 - Validation data loss = 0.034113\n",
            "Epoch for 9/100 : Train data loss = 0.031846 - Validation data loss = 0.033676\n",
            "Epoch for 10/100 : Train data loss = 0.031359 - Validation data loss = 0.033351\n",
            "Epoch for 11/100 : Train data loss = 0.031047 - Validation data loss = 0.033111\n",
            "Epoch for 12/100 : Train data loss = 0.030839 - Validation data loss = 0.032930\n",
            "Epoch for 13/100 : Train data loss = 0.030693 - Validation data loss = 0.032786\n",
            "Epoch for 14/100 : Train data loss = 0.030585 - Validation data loss = 0.032670\n",
            "Epoch for 15/100 : Train data loss = 0.030501 - Validation data loss = 0.032567\n",
            "Epoch for 16/100 : Train data loss = 0.030436 - Validation data loss = 0.032487\n",
            "Epoch for 17/100 : Train data loss = 0.030386 - Validation data loss = 0.032426\n",
            "Epoch for 18/100 : Train data loss = 0.030346 - Validation data loss = 0.032370\n",
            "Epoch for 19/100 : Train data loss = 0.030311 - Validation data loss = 0.032320\n",
            "Epoch for 20/100 : Train data loss = 0.030281 - Validation data loss = 0.032278\n",
            "Epoch for 21/100 : Train data loss = 0.030256 - Validation data loss = 0.032239\n",
            "Epoch for 22/100 : Train data loss = 0.030234 - Validation data loss = 0.032202\n",
            "Epoch for 23/100 : Train data loss = 0.030213 - Validation data loss = 0.032172\n",
            "Epoch for 24/100 : Train data loss = 0.030195 - Validation data loss = 0.032144\n",
            "Epoch for 25/100 : Train data loss = 0.030177 - Validation data loss = 0.032118\n",
            "Epoch for 26/100 : Train data loss = 0.030161 - Validation data loss = 0.032093\n",
            "Epoch for 27/100 : Train data loss = 0.030146 - Validation data loss = 0.032071\n",
            "Epoch for 28/100 : Train data loss = 0.030131 - Validation data loss = 0.032052\n",
            "Epoch for 29/100 : Train data loss = 0.030118 - Validation data loss = 0.032033\n",
            "Epoch for 30/100 : Train data loss = 0.030106 - Validation data loss = 0.032015\n",
            "Epoch for 31/100 : Train data loss = 0.030094 - Validation data loss = 0.031997\n",
            "Epoch for 32/100 : Train data loss = 0.030083 - Validation data loss = 0.031981\n",
            "Epoch for 33/100 : Train data loss = 0.030073 - Validation data loss = 0.031965\n",
            "Epoch for 34/100 : Train data loss = 0.030063 - Validation data loss = 0.031950\n",
            "Epoch for 35/100 : Train data loss = 0.030053 - Validation data loss = 0.031937\n",
            "Epoch for 36/100 : Train data loss = 0.030045 - Validation data loss = 0.031924\n",
            "Epoch for 37/100 : Train data loss = 0.030036 - Validation data loss = 0.031911\n",
            "Epoch for 38/100 : Train data loss = 0.030029 - Validation data loss = 0.031900\n",
            "Epoch for 39/100 : Train data loss = 0.030021 - Validation data loss = 0.031890\n",
            "Epoch for 40/100 : Train data loss = 0.030014 - Validation data loss = 0.031881\n",
            "Epoch for 41/100 : Train data loss = 0.030007 - Validation data loss = 0.031872\n",
            "Epoch for 42/100 : Train data loss = 0.030001 - Validation data loss = 0.031864\n",
            "Epoch for 43/100 : Train data loss = 0.029995 - Validation data loss = 0.031856\n",
            "Epoch for 44/100 : Train data loss = 0.029988 - Validation data loss = 0.031849\n",
            "Epoch for 45/100 : Train data loss = 0.029982 - Validation data loss = 0.031842\n",
            "Epoch for 46/100 : Train data loss = 0.029977 - Validation data loss = 0.031835\n",
            "Epoch for 47/100 : Train data loss = 0.029971 - Validation data loss = 0.031829\n",
            "Epoch for 48/100 : Train data loss = 0.029965 - Validation data loss = 0.031822\n",
            "Epoch for 49/100 : Train data loss = 0.029960 - Validation data loss = 0.031816\n",
            "Epoch for 50/100 : Train data loss = 0.029954 - Validation data loss = 0.031810\n",
            "Epoch for 51/100 : Train data loss = 0.029949 - Validation data loss = 0.031804\n",
            "Epoch for 52/100 : Train data loss = 0.029944 - Validation data loss = 0.031799\n",
            "Epoch for 53/100 : Train data loss = 0.029940 - Validation data loss = 0.031793\n",
            "Epoch for 54/100 : Train data loss = 0.029935 - Validation data loss = 0.031788\n",
            "Epoch for 55/100 : Train data loss = 0.029931 - Validation data loss = 0.031782\n",
            "Epoch for 56/100 : Train data loss = 0.029926 - Validation data loss = 0.031777\n",
            "Epoch for 57/100 : Train data loss = 0.029922 - Validation data loss = 0.031772\n",
            "Epoch for 58/100 : Train data loss = 0.029919 - Validation data loss = 0.031767\n",
            "Epoch for 59/100 : Train data loss = 0.029915 - Validation data loss = 0.031762\n",
            "Epoch for 60/100 : Train data loss = 0.029911 - Validation data loss = 0.031757\n",
            "Epoch for 61/100 : Train data loss = 0.029908 - Validation data loss = 0.031752\n",
            "Epoch for 62/100 : Train data loss = 0.029904 - Validation data loss = 0.031748\n",
            "Epoch for 63/100 : Train data loss = 0.029900 - Validation data loss = 0.031744\n",
            "Epoch for 64/100 : Train data loss = 0.029897 - Validation data loss = 0.031740\n",
            "Epoch for 65/100 : Train data loss = 0.029894 - Validation data loss = 0.031736\n",
            "Epoch for 66/100 : Train data loss = 0.029890 - Validation data loss = 0.031733\n",
            "Epoch for 67/100 : Train data loss = 0.029887 - Validation data loss = 0.031729\n",
            "Epoch for 68/100 : Train data loss = 0.029884 - Validation data loss = 0.031726\n",
            "Epoch for 69/100 : Train data loss = 0.029881 - Validation data loss = 0.031722\n",
            "Epoch for 70/100 : Train data loss = 0.029878 - Validation data loss = 0.031719\n",
            "Epoch for 71/100 : Train data loss = 0.029875 - Validation data loss = 0.031716\n",
            "Epoch for 72/100 : Train data loss = 0.029873 - Validation data loss = 0.031713\n",
            "Epoch for 73/100 : Train data loss = 0.029870 - Validation data loss = 0.031710\n",
            "Epoch for 74/100 : Train data loss = 0.029867 - Validation data loss = 0.031707\n",
            "Epoch for 75/100 : Train data loss = 0.029864 - Validation data loss = 0.031705\n",
            "Epoch for 76/100 : Train data loss = 0.029862 - Validation data loss = 0.031702\n",
            "Epoch for 77/100 : Train data loss = 0.029859 - Validation data loss = 0.031700\n",
            "Epoch for 78/100 : Train data loss = 0.029856 - Validation data loss = 0.031698\n",
            "Epoch for 79/100 : Train data loss = 0.029853 - Validation data loss = 0.031696\n",
            "Epoch for 80/100 : Train data loss = 0.029850 - Validation data loss = 0.031694\n",
            "Epoch for 81/100 : Train data loss = 0.029847 - Validation data loss = 0.031692\n",
            "Epoch for 82/100 : Train data loss = 0.029845 - Validation data loss = 0.031690\n",
            "Epoch for 83/100 : Train data loss = 0.029843 - Validation data loss = 0.031687\n",
            "Epoch for 84/100 : Train data loss = 0.029840 - Validation data loss = 0.031685\n",
            "Epoch for 85/100 : Train data loss = 0.029838 - Validation data loss = 0.031682\n",
            "Epoch for 86/100 : Train data loss = 0.029836 - Validation data loss = 0.031679\n",
            "Epoch for 87/100 : Train data loss = 0.029834 - Validation data loss = 0.031677\n",
            "Epoch for 88/100 : Train data loss = 0.029832 - Validation data loss = 0.031675\n",
            "Epoch for 89/100 : Train data loss = 0.029830 - Validation data loss = 0.031673\n",
            "Epoch for 90/100 : Train data loss = 0.029829 - Validation data loss = 0.031670\n",
            "Epoch for 91/100 : Train data loss = 0.029827 - Validation data loss = 0.031668\n",
            "Epoch for 92/100 : Train data loss = 0.029825 - Validation data loss = 0.031666\n",
            "Epoch for 93/100 : Train data loss = 0.029824 - Validation data loss = 0.031665\n",
            "Epoch for 94/100 : Train data loss = 0.029822 - Validation data loss = 0.031663\n",
            "Epoch for 95/100 : Train data loss = 0.029821 - Validation data loss = 0.031661\n",
            "Epoch for 96/100 : Train data loss = 0.029819 - Validation data loss = 0.031659\n",
            "Epoch for 97/100 : Train data loss = 0.029818 - Validation data loss = 0.031657\n",
            "Epoch for 98/100 : Train data loss = 0.029817 - Validation data loss = 0.031655\n",
            "Epoch for 99/100 : Train data loss = 0.029815 - Validation data loss = 0.031653\n"
          ]
        }
      ],
      "source": [
        "epochNum = 100\n",
        "\n",
        "nn = NeuralNetwork(0.0025, 10)\n",
        "\n",
        "train_costs, validation_costs = nn.train(x_train, y_train, x_validation, y_validation, epochNum)\n"
      ]
    },
    {
      "cell_type": "code",
      "execution_count": null,
      "metadata": {
        "colab": {
          "base_uri": "https://localhost:8080/",
          "height": 329
        },
        "id": "I3oQmN_FizNp",
        "outputId": "675cf134-7048-42ce-d0af-58b18ee97685"
      },
      "outputs": [
        {
          "data": {
            "image/png": "[encoded data removed]",
            "text/plain": [
              "<Figure size 432x288 with 1 Axes>"
            ]
          },
          "metadata": {
            "needs_background": "light"
          },
          "output_type": "display_data"
        },
        {
          "name": "stdout",
          "output_type": "stream",
          "text": [
            "\n",
            "L2 loss of test data: 0.034036\n"
          ]
        }
      ],
      "source": [
        "plot_cost(train_costs,  validation_costs, epochNum)\n",
        "\n",
        "yhat = nn.inference(x_test)\n",
        "yhat = np.array(yhat).reshape((len(yhat), 1))\n",
        "print('\\nL2 loss of test data: %f' % calcL2Loss(yhat, y_test))"
      ]
    },
    {
      "cell_type": "markdown",
      "metadata": {
        "id": "NxazG3m_y9Yu"
      },
      "source": [
        "`part c.5`: *Model Evaluation* "
      ]
    },
    {
      "cell_type": "code",
      "execution_count": null,
      "metadata": {
        "id": "QCl_vAURzAhP"
      },
      "outputs": [],
      "source": [
        "x1_vals = [] #input 1\n",
        "x2_vals = [] #input 2\n",
        "y_vals = [] #target\n",
        "num_data = 10000\n",
        "\n",
        "for i in range(0, num_data):\n",
        "    randd1 = random.uniform(0, 2*pi)\n",
        "    randd2 = 0\n",
        "    x1_vals.append(randd1)\n",
        "    x2_vals.append(randd2)\n",
        "    y_vals.append(f(x1_vals[i],x2_vals[i]))\n",
        "\n",
        "x_vals = []\n",
        "for i in range(len(x1_vals)):\n",
        "  x_vals.append((x1_vals[i], x2_vals[i]))\n",
        "\n",
        "x_vals = np.array(x_vals)\n",
        "x_vals = np.reshape(x_vals, (num_data, 2, 1))\n",
        "y_vals = np.array(y_vals)\n",
        "y_vals = np.reshape(y_vals, (num_data, 1))\n",
        "\n",
        "x_train, y_train, x_validation, y_validation, x_test, y_test = trainTestSplit(x_vals, y_vals)\n",
        "\n",
        "min_data = np.min(x_train)\n",
        "max_data = np.max(x_train)\n",
        "\n",
        "x_validation = normalizeData(x_validation, min_data, max_data)\n",
        "x_test = normalizeData(x_test, min_data, max_data)\n",
        "x_train = normalizeData(x_train, min_data, max_data)"
      ]
    },
    {
      "cell_type": "code",
      "execution_count": null,
      "metadata": {
        "colab": {
          "base_uri": "https://localhost:8080/"
        },
        "id": "tvPliQqqBNcD",
        "outputId": "4915268b-2900-40b7-c2cf-58fa83340fbb"
      },
      "outputs": [
        {
          "name": "stdout",
          "output_type": "stream",
          "text": [
            "Epoch for 0/100 : Train data loss = 0.258780 - Validation data loss = 0.147031\n",
            "Epoch for 1/100 : Train data loss = 0.124426 - Validation data loss = 0.090751\n",
            "Epoch for 2/100 : Train data loss = 0.091542 - Validation data loss = 0.087227\n",
            "Epoch for 3/100 : Train data loss = 0.082315 - Validation data loss = 0.077626\n",
            "Epoch for 4/100 : Train data loss = 0.074328 - Validation data loss = 0.072639\n",
            "Epoch for 5/100 : Train data loss = 0.070710 - Validation data loss = 0.071847\n",
            "Epoch for 6/100 : Train data loss = 0.069796 - Validation data loss = 0.072915\n",
            "Epoch for 7/100 : Train data loss = 0.069436 - Validation data loss = 0.075202\n",
            "Epoch for 8/100 : Train data loss = 0.067602 - Validation data loss = 0.077263\n",
            "Epoch for 9/100 : Train data loss = 0.064683 - Validation data loss = 0.077291\n",
            "Epoch for 10/100 : Train data loss = 0.061240 - Validation data loss = 0.066569\n",
            "Epoch for 11/100 : Train data loss = 0.056893 - Validation data loss = 0.061472\n",
            "Epoch for 12/100 : Train data loss = 0.052379 - Validation data loss = 0.056195\n",
            "Epoch for 13/100 : Train data loss = 0.047752 - Validation data loss = 0.050436\n",
            "Epoch for 14/100 : Train data loss = 0.043060 - Validation data loss = 0.043800\n",
            "Epoch for 15/100 : Train data loss = 0.038446 - Validation data loss = 0.037873\n",
            "Epoch for 16/100 : Train data loss = 0.033893 - Validation data loss = 0.032384\n",
            "Epoch for 17/100 : Train data loss = 0.029132 - Validation data loss = 0.026164\n",
            "Epoch for 18/100 : Train data loss = 0.023618 - Validation data loss = 0.026113\n",
            "Epoch for 19/100 : Train data loss = 0.070374 - Validation data loss = 0.077819\n",
            "Epoch for 20/100 : Train data loss = 0.073613 - Validation data loss = 0.068050\n",
            "Epoch for 21/100 : Train data loss = 0.065997 - Validation data loss = 0.061933\n",
            "Epoch for 22/100 : Train data loss = 0.062134 - Validation data loss = 0.057752\n",
            "Epoch for 23/100 : Train data loss = 0.060904 - Validation data loss = 0.056593\n",
            "Epoch for 24/100 : Train data loss = 0.061165 - Validation data loss = 0.056873\n",
            "Epoch for 25/100 : Train data loss = 0.065210 - Validation data loss = 0.063804\n",
            "Epoch for 26/100 : Train data loss = 0.072552 - Validation data loss = 0.077179\n",
            "Epoch for 27/100 : Train data loss = 0.089840 - Validation data loss = 0.097110\n",
            "Epoch for 28/100 : Train data loss = 0.105034 - Validation data loss = 0.121328\n",
            "Epoch for 29/100 : Train data loss = 0.121635 - Validation data loss = 0.154807\n",
            "Epoch for 30/100 : Train data loss = 0.140563 - Validation data loss = 0.130016\n",
            "Epoch for 31/100 : Train data loss = 0.143234 - Validation data loss = 0.128534\n",
            "Epoch for 32/100 : Train data loss = 0.153168 - Validation data loss = 0.137883\n",
            "Epoch for 33/100 : Train data loss = 0.148117 - Validation data loss = 0.139177\n",
            "Epoch for 34/100 : Train data loss = 0.150287 - Validation data loss = 0.139838\n",
            "Epoch for 35/100 : Train data loss = 0.151142 - Validation data loss = 0.142104\n",
            "Epoch for 36/100 : Train data loss = 0.151881 - Validation data loss = 0.151479\n",
            "Epoch for 37/100 : Train data loss = 0.153738 - Validation data loss = 0.167621\n",
            "Epoch for 38/100 : Train data loss = 0.158851 - Validation data loss = 0.149191\n",
            "Epoch for 39/100 : Train data loss = 0.155104 - Validation data loss = 0.152789\n",
            "Epoch for 40/100 : Train data loss = 0.154217 - Validation data loss = 0.153924\n",
            "Epoch for 41/100 : Train data loss = 0.153295 - Validation data loss = 0.151497\n",
            "Epoch for 42/100 : Train data loss = 0.153629 - Validation data loss = 0.154109\n",
            "Epoch for 43/100 : Train data loss = 0.154269 - Validation data loss = 0.159099\n",
            "Epoch for 44/100 : Train data loss = 0.187801 - Validation data loss = 0.145750\n",
            "Epoch for 45/100 : Train data loss = 0.106442 - Validation data loss = 0.053699\n",
            "Epoch for 46/100 : Train data loss = 0.036212 - Validation data loss = 0.024052\n",
            "Epoch for 47/100 : Train data loss = 0.016880 - Validation data loss = 0.012336\n",
            "Epoch for 48/100 : Train data loss = 0.009132 - Validation data loss = 0.008311\n",
            "Epoch for 49/100 : Train data loss = 0.006413 - Validation data loss = 0.006659\n",
            "Epoch for 50/100 : Train data loss = 0.005289 - Validation data loss = 0.005903\n",
            "Epoch for 51/100 : Train data loss = 0.004651 - Validation data loss = 0.005462\n",
            "Epoch for 52/100 : Train data loss = 0.004224 - Validation data loss = 0.005185\n",
            "Epoch for 53/100 : Train data loss = 0.003875 - Validation data loss = 0.004972\n",
            "Epoch for 54/100 : Train data loss = 0.003554 - Validation data loss = 0.004801\n",
            "Epoch for 55/100 : Train data loss = 0.003352 - Validation data loss = 0.004663\n",
            "Epoch for 56/100 : Train data loss = 0.003227 - Validation data loss = 0.004591\n",
            "Epoch for 57/100 : Train data loss = 0.003160 - Validation data loss = 0.004536\n",
            "Epoch for 58/100 : Train data loss = 0.003108 - Validation data loss = 0.004457\n",
            "Epoch for 59/100 : Train data loss = 0.003059 - Validation data loss = 0.004407\n",
            "Epoch for 60/100 : Train data loss = 0.003020 - Validation data loss = 0.004363\n",
            "Epoch for 61/100 : Train data loss = 0.002985 - Validation data loss = 0.004321\n",
            "Epoch for 62/100 : Train data loss = 0.002952 - Validation data loss = 0.004289\n",
            "Epoch for 63/100 : Train data loss = 0.002920 - Validation data loss = 0.004352\n",
            "Epoch for 64/100 : Train data loss = 0.002887 - Validation data loss = 0.004286\n",
            "Epoch for 65/100 : Train data loss = 0.002856 - Validation data loss = 0.004222\n",
            "Epoch for 66/100 : Train data loss = 0.002824 - Validation data loss = 0.004166\n",
            "Epoch for 67/100 : Train data loss = 0.002791 - Validation data loss = 0.004107\n",
            "Epoch for 68/100 : Train data loss = 0.002762 - Validation data loss = 0.004059\n",
            "Epoch for 69/100 : Train data loss = 0.002742 - Validation data loss = 0.004006\n",
            "Epoch for 70/100 : Train data loss = 0.002726 - Validation data loss = 0.003938\n",
            "Epoch for 71/100 : Train data loss = 0.002699 - Validation data loss = 0.003869\n",
            "Epoch for 72/100 : Train data loss = 0.002674 - Validation data loss = 0.003829\n",
            "Epoch for 73/100 : Train data loss = 0.002647 - Validation data loss = 0.003768\n",
            "Epoch for 74/100 : Train data loss = 0.002622 - Validation data loss = 0.003707\n",
            "Epoch for 75/100 : Train data loss = 0.002594 - Validation data loss = 0.003661\n",
            "Epoch for 76/100 : Train data loss = 0.002570 - Validation data loss = 0.003617\n",
            "Epoch for 77/100 : Train data loss = 0.002540 - Validation data loss = 0.003565\n",
            "Epoch for 78/100 : Train data loss = 0.002507 - Validation data loss = 0.003505\n",
            "Epoch for 79/100 : Train data loss = 0.002460 - Validation data loss = 0.003456\n",
            "Epoch for 80/100 : Train data loss = 0.002428 - Validation data loss = 0.003413\n",
            "Epoch for 81/100 : Train data loss = 0.002399 - Validation data loss = 0.003368\n",
            "Epoch for 82/100 : Train data loss = 0.002369 - Validation data loss = 0.003323\n",
            "Epoch for 83/100 : Train data loss = 0.002337 - Validation data loss = 0.003278\n",
            "Epoch for 84/100 : Train data loss = 0.002309 - Validation data loss = 0.003229\n",
            "Epoch for 85/100 : Train data loss = 0.002275 - Validation data loss = 0.003175\n",
            "Epoch for 86/100 : Train data loss = 0.002244 - Validation data loss = 0.003126\n",
            "Epoch for 87/100 : Train data loss = 0.002215 - Validation data loss = 0.003078\n",
            "Epoch for 88/100 : Train data loss = 0.002188 - Validation data loss = 0.003035\n",
            "Epoch for 89/100 : Train data loss = 0.002163 - Validation data loss = 0.002990\n",
            "Epoch for 90/100 : Train data loss = 0.002137 - Validation data loss = 0.002947\n",
            "Epoch for 91/100 : Train data loss = 0.002112 - Validation data loss = 0.002911\n",
            "Epoch for 92/100 : Train data loss = 0.002092 - Validation data loss = 0.002878\n",
            "Epoch for 93/100 : Train data loss = 0.002075 - Validation data loss = 0.002851\n",
            "Epoch for 94/100 : Train data loss = 0.002063 - Validation data loss = 0.002831\n",
            "Epoch for 95/100 : Train data loss = 0.002054 - Validation data loss = 0.002816\n",
            "Epoch for 96/100 : Train data loss = 0.002049 - Validation data loss = 0.002814\n",
            "Epoch for 97/100 : Train data loss = 0.002047 - Validation data loss = 0.002815\n",
            "Epoch for 98/100 : Train data loss = 0.002046 - Validation data loss = 0.002817\n",
            "Epoch for 99/100 : Train data loss = 0.002044 - Validation data loss = 0.002817\n"
          ]
        }
      ],
      "source": [
        "epochNum = 100\n",
        "\n",
        "nn = NeuralNetwork(0.0025, 10)\n",
        "\n",
        "train_costs, validation_costs = nn.train(x_train, y_train, x_validation, y_validation, epochNum)"
      ]
    },
    {
      "cell_type": "code",
      "execution_count": null,
      "metadata": {
        "colab": {
          "base_uri": "https://localhost:8080/",
          "height": 329
        },
        "id": "DVjoYvsMDOiu",
        "outputId": "b0b03887-0459-45ab-b6d4-57edd017049d"
      },
      "outputs": [
        {
          "data": {
            "image/png": "[encoded data removed]",
            "text/plain": [
              "<Figure size 432x288 with 1 Axes>"
            ]
          },
          "metadata": {
            "needs_background": "light"
          },
          "output_type": "display_data"
        },
        {
          "name": "stdout",
          "output_type": "stream",
          "text": [
            "\n",
            "L2 loss of test data: 0.002755\n"
          ]
        }
      ],
      "source": [
        "plot_cost(train_costs, validation_costs, epochNum)\n",
        "\n",
        "yhat = nn.inference(x_test)\n",
        "yhat = np.array(yhat).reshape((len(yhat), 1))\n",
        "print('\\nL2 loss of test data: %f' % calcL2Loss(yhat, y_test))"
      ]
    },
    {
      "cell_type": "code",
      "execution_count": null,
      "metadata": {
        "colab": {
          "base_uri": "https://localhost:8080/",
          "height": 281
        },
        "id": "JoBGm5HWsddE",
        "outputId": "f11141ef-3bdc-496a-cbb9-d51b70939c58"
      },
      "outputs": [
        {
          "data": {
            "image/png": "[encoded data removed]",
            "text/plain": [
              "<Figure size 432x288 with 1 Axes>"
            ]
          },
          "metadata": {
            "needs_background": "light"
          },
          "output_type": "display_data"
        }
      ],
      "source": [
        "x = np.linspace(0, 2*(np.pi), 1000).reshape((1000, 1))\n",
        "x_net = np.append(x, np.zeros((len(x), 1)), axis = 1).reshape(1000, 2, 1)\n",
        "x_net_norm = normalizeData(x_net, min_data, max_data)\n",
        "\n",
        "yhat = nn.inference(x_net_norm)\n",
        "\n",
        "yhat = np.array(yhat).reshape((1000, 1))\n",
        "ysin = np.sin(x)\n",
        "\n",
        "\n",
        "plt.plot(x, ysin, 'r', label='sin(x)')\n",
        "plt.plot(x, yhat, 'b', label='model prediction')\n",
        "\n",
        "plt.legend(loc=\"upper right\")\n",
        "plt.title(\"function approximation\")\n",
        "\n",
        "plt.show()"
      ]
    },
    {
      "cell_type": "code",
      "execution_count": null,
      "metadata": {
        "id": "VXj-HDjwuTs2"
      },
      "outputs": [],
      "source": [
        "_"
      ]
    }
  ],
  "metadata": {
    "colab": {
      "collapsed_sections": [],
      "name": "IS_HW3_Q2.ipynb",
      "provenance": []
    },
    "kernelspec": {
      "display_name": "Python 3",
      "name": "python3"
    },
    "language_info": {
      "name": "python"
    }
  },
  "nbformat": 4,
  "nbformat_minor": 0
}
